{
 "cells": [
  {
   "cell_type": "code",
   "execution_count": 5,
   "metadata": {},
   "outputs": [
    {
     "name": "stdout",
     "output_type": "stream",
     "text": [
      "Number of vowels: 2\n",
      "Number of consonants: 3\n"
     ]
    }
   ],
   "source": [
    "def vovelsandconsonants(String):\n",
    "    vowels = \"aeiouAEIOU\"\n",
    "    v = 0\n",
    "    c = 0\n",
    "\n",
    "    for char in String:\n",
    "        if char.isalpha():\n",
    "            if char in vowels:\n",
    "                v += 1\n",
    "            else:\n",
    "                c += 1\n",
    "\n",
    "    return v, c\n",
    "String = input(\"Enter a string: \")\n",
    "v, c = vovelsandconsonants(String)\n",
    "print(f\"Number of vowels: {v}\")\n",
    "print(f\"Number of consonants: {c}\")"
   ]
  },
  {
   "cell_type": "code",
   "execution_count": null,
   "metadata": {},
   "outputs": [],
   "source": []
  },
  {
   "cell_type": "code",
   "execution_count": 9,
   "metadata": {},
   "outputs": [
    {
     "name": "stdout",
     "output_type": "stream",
     "text": [
      "Enter the entries in a single line (separated by space): \n",
      "[[1 2 3]\n",
      " [4 5 6]\n",
      " [7 8 9]]\n",
      "Enter the entries in a single line (separated by space): \n",
      "[[9 8 7]\n",
      " [6 5 4]\n",
      " [3 2 1]]\n",
      "[[ 9 16 21]\n",
      " [24 25 24]\n",
      " [21 16  9]]\n"
     ]
    }
   ],
   "source": [
    "import numpy as np\n",
    "R1=int (input(\"Enter numbber of rows of mat A\"))\n",
    "C1=int (input(\"Enter number of columns of mat A\"))\n",
    "print(\"Enter the entries in a single line (separated by space): \")\n",
    "entries = list(map(int, input().split()))\n",
    "\n",
    "\n",
    "A = np.array(entries).reshape(R1, C1)\n",
    "print(A)\n",
    "R2=int (input(\"Enter numbber of rows of mat B\"))\n",
    "C2=int (input(\"Enter number of columns of mat B\"))\n",
    "print(\"Enter the entries in a single line (separated by space): \")\n",
    "entries = list(map(int, input().split()))\n",
    "B = np.array(entries).reshape(R2, C2)\n",
    "print(B)\n",
    "print(A*B)"
   ]
  },
  {
   "cell_type": "code",
   "execution_count": 16,
   "metadata": {},
   "outputs": [
    {
     "name": "stdout",
     "output_type": "stream",
     "text": [
      "4\n"
     ]
    }
   ],
   "source": [
    "L1=[1,2,4,3948,203,12,23]\n",
    "L2=[3,43,534,1,2,4,12]\n",
    "x=0\n",
    "for i in L1:\n",
    "    if i in L2:\n",
    "        x+=1\n",
    "print(x)"
   ]
  },
  {
   "cell_type": "code",
   "execution_count": null,
   "metadata": {},
   "outputs": [
    {
     "name": "stdout",
     "output_type": "stream",
     "text": [
      "Enter the entries in a single line (separated by space): \n",
      "Matrix A:\n",
      "[[1 2 3]\n",
      " [4 5 6]\n",
      " [7 8 9]]\n",
      "Transposed Matrix A:\n",
      "[[1 4 7]\n",
      " [2 5 8]\n",
      " [3 6 9]]\n"
     ]
    }
   ],
   "source": [
    "\n",
    "import numpy as np\n",
    "\n",
    "R1 = int(input(\"Enter number of rows of matrix A: \"))\n",
    "C1 = int(input(\"Enter number of columns of matrix A: \"))\n",
    "\n",
    "print(\"Enter the entries in a single line (separated by space): \")\n",
    "entries = list(map(int, input().split()))\n",
    "\n",
    "\n",
    "\n",
    "A = np.array(entries).reshape(R1, C1)\n",
    "print(\"Matrix A:\")\n",
    "print(A)\n",
    "\n",
    "ATr = A.T\n",
    "print(\"Transposed Matrix A:\")\n",
    "print(ATr)"
   ]
  },
  {
   "cell_type": "code",
   "execution_count": 34,
   "metadata": {},
   "outputs": [
    {
     "name": "stdout",
     "output_type": "stream",
     "text": [
      "Enter the elements of the matrix:\n",
      "Enter the argument:\n",
      "[[   1   64]\n",
      " [ 729 4096]]\n"
     ]
    }
   ],
   "source": [
    "\n",
    "import numpy as np\n",
    "def square_matrix():\n",
    "    num_r=int(input(\"Enter number of rows:\"))\n",
    "    num_c = int(input(\"Enter number of columns:\"))\n",
    "    if num_r==num_c:\n",
    "        print(\"Enter the elements of the matrix:\")\n",
    "        A = np.array([[int(input()) for i in range(num_c)] for j in range(num_r)])\n",
    "        print(\"Enter the argument:\")\n",
    "        m = int(input())\n",
    "        print(pow(A,m))\n",
    "\n",
    "\n",
    "square_matrix()"
   ]
  },
  {
   "cell_type": "code",
   "execution_count": 35,
   "metadata": {},
   "outputs": [
    {
     "name": "stdout",
     "output_type": "stream",
     "text": [
      "a\n"
     ]
    }
   ],
   "source": [
    "string1=\"chandrakiran\"\n",
    "\n",
    "def occurance(string):\n",
    "    dict1={}\n",
    "    for i in string:\n",
    "        if i in dict1:\n",
    "            dict1[i]+=1\n",
    "        else:\n",
    "            dict1[i]=1\n",
    "        \n",
    "    return (dict1)\n",
    "\n",
    "a = occurance(string1)\n",
    "print(max(a,key=a.get))"
   ]
  }
 ],
 "metadata": {
  "kernelspec": {
   "display_name": "Python 3",
   "language": "python",
   "name": "python3"
  },
  "language_info": {
   "codemirror_mode": {
    "name": "ipython",
    "version": 3
   },
   "file_extension": ".py",
   "mimetype": "text/x-python",
   "name": "python",
   "nbconvert_exporter": "python",
   "pygments_lexer": "ipython3",
   "version": "3.12.8"
  }
 },
 "nbformat": 4,
 "nbformat_minor": 2
}
